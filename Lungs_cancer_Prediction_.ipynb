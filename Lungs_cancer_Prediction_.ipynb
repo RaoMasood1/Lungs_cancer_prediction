{
  "nbformat": 4,
  "nbformat_minor": 0,
  "metadata": {
    "colab": {
      "provenance": [],
      "authorship_tag": "ABX9TyOU8ZMQUEz9uO77ew4JOlem",
      "include_colab_link": true
    },
    "kernelspec": {
      "name": "python3",
      "display_name": "Python 3"
    },
    "language_info": {
      "name": "python"
    }
  },
  "cells": [
    {
      "cell_type": "markdown",
      "metadata": {
        "id": "view-in-github",
        "colab_type": "text"
      },
      "source": [
        "<a href=\"https://colab.research.google.com/github/RaoMasood1/Lungs_cancer_prediction/blob/main/Lungs_cancer_Prediction_.ipynb\" target=\"_parent\"><img src=\"https://colab.research.google.com/assets/colab-badge.svg\" alt=\"Open In Colab\"/></a>"
      ]
    },
    {
      "cell_type": "code",
      "source": [
        "import pandas as pd\n",
        "from sklearn.model_selection import train_test_split"
      ],
      "metadata": {
        "id": "QwXJqssV75-O"
      },
      "execution_count": 84,
      "outputs": []
    },
    {
      "cell_type": "code",
      "source": [
        "# Load your dataset (replace 'dataset.csv' with your dataset file)\n",
        "data = pd.read_csv('/content/survey lung cancer.csv')"
      ],
      "metadata": {
        "id": "UNA1why99N-H"
      },
      "execution_count": 85,
      "outputs": []
    },
    {
      "cell_type": "code",
      "source": [
        "# Convert categorical variables to numerical using one-hot encoding\n",
        "data = pd.get_dummies(data, columns=['GENDER'], drop_first=True)"
      ],
      "metadata": {
        "id": "EHzk4PUq9Pv5"
      },
      "execution_count": 86,
      "outputs": []
    },
    {
      "cell_type": "code",
      "source": [
        "# Extract features and target variable\n",
        "X = data.drop(columns=['LUNG_CANCER'])\n",
        "y = data['LUNG_CANCER']"
      ],
      "metadata": {
        "id": "PJk_tIvO9Ta6"
      },
      "execution_count": 87,
      "outputs": []
    },
    {
      "cell_type": "code",
      "source": [
        "print(x)"
      ],
      "metadata": {
        "colab": {
          "base_uri": "https://localhost:8080/"
        },
        "id": "Okym8kFs9Zzy",
        "outputId": "fb440e87-088f-42a7-dc6d-76418cb86844"
      },
      "execution_count": 88,
      "outputs": [
        {
          "output_type": "stream",
          "name": "stdout",
          "text": [
            "    GENDER  AGE  SMOKING  YELLOW_FINGERS  ANXIETY  PEER_PRESSURE  \\\n",
            "0        M   69        1               2        2              1   \n",
            "1        M   74        2               1        1              1   \n",
            "2        F   59        1               1        1              2   \n",
            "3        M   63        2               2        2              1   \n",
            "4        F   63        1               2        1              1   \n",
            "..     ...  ...      ...             ...      ...            ...   \n",
            "304      F   56        1               1        1              2   \n",
            "305      M   70        2               1        1              1   \n",
            "306      M   58        2               1        1              1   \n",
            "307      M   67        2               1        2              1   \n",
            "308      M   62        1               1        1              2   \n",
            "\n",
            "     CHRONIC DISEASE  FATIGUE   ALLERGY   WHEEZING  ALCOHOL CONSUMING  \\\n",
            "0                  1         2         1         2                  2   \n",
            "1                  2         2         2         1                  1   \n",
            "2                  1         2         1         2                  1   \n",
            "3                  1         1         1         1                  2   \n",
            "4                  1         1         1         2                  1   \n",
            "..               ...       ...       ...       ...                ...   \n",
            "304                2         2         1         1                  2   \n",
            "305                1         2         2         2                  2   \n",
            "306                1         1         2         2                  2   \n",
            "307                1         2         2         1                  2   \n",
            "308                1         2         2         2                  2   \n",
            "\n",
            "     COUGHING  SHORTNESS OF BREATH  SWALLOWING DIFFICULTY  CHEST PAIN  \\\n",
            "0           2                    2                      2           2   \n",
            "1           1                    2                      2           2   \n",
            "2           2                    2                      1           2   \n",
            "3           1                    1                      2           2   \n",
            "4           2                    2                      1           1   \n",
            "..        ...                  ...                    ...         ...   \n",
            "304         2                    2                      2           1   \n",
            "305         2                    2                      1           2   \n",
            "306         2                    1                      1           2   \n",
            "307         2                    2                      1           2   \n",
            "308         1                    1                      2           1   \n",
            "\n",
            "    LUNG_CANCER  gender_numeric  \n",
            "0           YES               1  \n",
            "1           YES               1  \n",
            "2            NO               0  \n",
            "3            NO               1  \n",
            "4            NO               0  \n",
            "..          ...             ...  \n",
            "304         YES               0  \n",
            "305         YES               1  \n",
            "306         YES               1  \n",
            "307         YES               1  \n",
            "308         YES               1  \n",
            "\n",
            "[309 rows x 17 columns]\n"
          ]
        }
      ]
    },
    {
      "cell_type": "code",
      "source": [
        "print(y)"
      ],
      "metadata": {
        "colab": {
          "base_uri": "https://localhost:8080/"
        },
        "id": "oogx7RlW9dfJ",
        "outputId": "aea71cb3-ec45-438e-d041-1b131702086b"
      },
      "execution_count": 89,
      "outputs": [
        {
          "output_type": "stream",
          "name": "stdout",
          "text": [
            "0      YES\n",
            "1      YES\n",
            "2       NO\n",
            "3       NO\n",
            "4       NO\n",
            "      ... \n",
            "304    YES\n",
            "305    YES\n",
            "306    YES\n",
            "307    YES\n",
            "308    YES\n",
            "Name: LUNG_CANCER, Length: 309, dtype: object\n"
          ]
        }
      ]
    },
    {
      "cell_type": "code",
      "source": [
        "# Split the data into training and testing sets\n",
        "x_train, x_test, y_train, y_test = train_test_split(X, y, test_size=0.2, random_state=42)"
      ],
      "metadata": {
        "id": "45IUxbfa9hlJ"
      },
      "execution_count": 90,
      "outputs": []
    },
    {
      "cell_type": "code",
      "source": [
        "print(x_train)"
      ],
      "metadata": {
        "colab": {
          "base_uri": "https://localhost:8080/"
        },
        "id": "D1FSia4a9wXr",
        "outputId": "a82d5a91-81e0-4f60-9292-de842bba6aac"
      },
      "execution_count": 91,
      "outputs": [
        {
          "output_type": "stream",
          "name": "stdout",
          "text": [
            "     AGE  SMOKING  YELLOW_FINGERS  ANXIETY  PEER_PRESSURE  CHRONIC DISEASE  \\\n",
            "126   51        2               1        1              1                1   \n",
            "109   53        1               1        1              1                2   \n",
            "247   67        1               2        1              1                1   \n",
            "234   77        1               2        1              2                1   \n",
            "202   74        2               1        1              1                2   \n",
            "..   ...      ...             ...      ...            ...              ...   \n",
            "188   65        2               2        2              2                2   \n",
            "71    66        2               2        2              2                1   \n",
            "106   61        2               2        2              2                2   \n",
            "270   70        2               1        1              1                1   \n",
            "102   64        2               1        1              1                1   \n",
            "\n",
            "     FATIGUE   ALLERGY   WHEEZING  ALCOHOL CONSUMING  COUGHING  \\\n",
            "126         2         1         2                  2         2   \n",
            "109         2         2         1                  2         1   \n",
            "247         2         1         2                  2         2   \n",
            "234         2         2         2                  2         2   \n",
            "202         2         2         2                  2         1   \n",
            "..        ...       ...       ...                ...       ...   \n",
            "188         1         1         1                  1         1   \n",
            "71          2         1         2                  1         2   \n",
            "106         2         1         1                  1         1   \n",
            "270         2         1         1                  1         1   \n",
            "102         2         2         2                  2         2   \n",
            "\n",
            "     SHORTNESS OF BREATH  SWALLOWING DIFFICULTY  CHEST PAIN  GENDER_M  \n",
            "126                    2                      1           2         1  \n",
            "109                    2                      1           2         1  \n",
            "247                    2                      1           1         1  \n",
            "234                    1                      1           1         1  \n",
            "202                    1                      2           2         1  \n",
            "..                   ...                    ...         ...       ...  \n",
            "188                    1                      1           1         1  \n",
            "71                     2                      2           1         0  \n",
            "106                    2                      2           1         0  \n",
            "270                    2                      1           1         0  \n",
            "102                    2                      1           2         1  \n",
            "\n",
            "[247 rows x 15 columns]\n"
          ]
        }
      ]
    },
    {
      "cell_type": "code",
      "source": [
        "print(y_train)"
      ],
      "metadata": {
        "colab": {
          "base_uri": "https://localhost:8080/"
        },
        "id": "sT9CnGC19wN1",
        "outputId": "4142f085-f86d-4a43-8618-2c1e9dc32940"
      },
      "execution_count": 92,
      "outputs": [
        {
          "output_type": "stream",
          "name": "stdout",
          "text": [
            "126    YES\n",
            "109    YES\n",
            "247    YES\n",
            "234    YES\n",
            "202    YES\n",
            "      ... \n",
            "188    YES\n",
            "71     YES\n",
            "106    YES\n",
            "270     NO\n",
            "102    YES\n",
            "Name: LUNG_CANCER, Length: 247, dtype: object\n"
          ]
        }
      ]
    },
    {
      "cell_type": "code",
      "source": [
        "print(x_test)"
      ],
      "metadata": {
        "colab": {
          "base_uri": "https://localhost:8080/"
        },
        "id": "kzE8J4VC9u9g",
        "outputId": "0d9e2e02-41dd-4123-b3cb-2014c85ec529"
      },
      "execution_count": 93,
      "outputs": [
        {
          "output_type": "stream",
          "name": "stdout",
          "text": [
            "     AGE  SMOKING  YELLOW_FINGERS  ANXIETY  PEER_PRESSURE  CHRONIC DISEASE  \\\n",
            "288   61        1               2        2              2                1   \n",
            "9     53        2               2        2              2                2   \n",
            "57    73        1               1        1              1                2   \n",
            "60    70        1               2        1              2                2   \n",
            "25    65        1               2        2              1                1   \n",
            "..   ...      ...             ...      ...            ...              ...   \n",
            "198   73        2               2        2              1                2   \n",
            "195   69        1               2        2              1                1   \n",
            "210   54        2               1        1              1                1   \n",
            "224   62        2               1        1              2                1   \n",
            "158   56        1               1        2              2                2   \n",
            "\n",
            "     FATIGUE   ALLERGY   WHEEZING  ALCOHOL CONSUMING  COUGHING  \\\n",
            "288         1         2         2                  1         2   \n",
            "9           1         2         1                  2         1   \n",
            "57          1         2         1                  2         2   \n",
            "60          2         2         2                  2         2   \n",
            "25          2         1         2                  2         2   \n",
            "..        ...       ...       ...                ...       ...   \n",
            "198         1         2         1                  2         1   \n",
            "195         1         1         2                  2         2   \n",
            "210         1         2         2                  2         2   \n",
            "224         2         2         2                  2         2   \n",
            "158         2         2         2                  2         1   \n",
            "\n",
            "     SHORTNESS OF BREATH  SWALLOWING DIFFICULTY  CHEST PAIN  GENDER_M  \n",
            "288                    1                      2           1         0  \n",
            "9                      1                      2           2         1  \n",
            "57                     2                      2           2         1  \n",
            "60                     1                      2           2         1  \n",
            "25                     2                      2           2         1  \n",
            "..                   ...                    ...         ...       ...  \n",
            "198                    1                      1           1         0  \n",
            "195                    2                      2           1         1  \n",
            "210                    1                      1           1         1  \n",
            "224                    1                      2           2         0  \n",
            "158                    2                      2           2         0  \n",
            "\n",
            "[62 rows x 15 columns]\n"
          ]
        }
      ]
    },
    {
      "cell_type": "code",
      "source": [
        "print(y_test)"
      ],
      "metadata": {
        "colab": {
          "base_uri": "https://localhost:8080/"
        },
        "id": "7rEE8NUz9ry0",
        "outputId": "2a5ab973-e2d6-4eeb-88a0-c12a48266291"
      },
      "execution_count": 94,
      "outputs": [
        {
          "output_type": "stream",
          "name": "stdout",
          "text": [
            "288    YES\n",
            "9      YES\n",
            "57     YES\n",
            "60     YES\n",
            "25     YES\n",
            "      ... \n",
            "198    YES\n",
            "195    YES\n",
            "210    YES\n",
            "224    YES\n",
            "158    YES\n",
            "Name: LUNG_CANCER, Length: 62, dtype: object\n"
          ]
        }
      ]
    },
    {
      "cell_type": "code",
      "source": [
        "#KNN\n",
        "from sklearn.metrics import accuracy_score, classification_report, confusion_matrix, matthews_corrcoef\n",
        "from sklearn.neighbors import KNeighborsClassifier\n",
        "\n",
        "# Create and train the KNN model\n",
        "model_knn = KNeighborsClassifier()\n",
        "model_knn.fit(x_train, y_train)\n",
        "\n",
        "# Make predictions on the test set\n",
        "y_pred_knn = model_knn.predict(x_test)\n",
        "\n",
        "# Calculate confusion matrix\n",
        "conf_matrix_knn = confusion_matrix(y_test, y_pred_knn)\n",
        "tn_knn, fp_knn, fn_knn, tp_knn = conf_matrix_knn.ravel()\n",
        "\n",
        "# Calculate accuracy\n",
        "accuracy_knn = accuracy_score(y_test, y_pred_knn)\n",
        "\n",
        "# Calculate specificity (true negative rate)\n",
        "specificity_knn = tn_knn / (tn_knn + fp_knn)\n",
        "\n",
        "# Calculate sensitivity (true positive rate or recall)\n",
        "sensitivity_knn = tp_knn / (tp_knn + fn_knn)\n",
        "\n",
        "# Calculate precision\n",
        "precision_knn = tp_knn / (tp_knn + fp_knn)\n",
        "\n",
        "# Calculate F1 score\n",
        "f1_score_knn = 2 * (precision_knn * sensitivity_knn) / (precision_knn + sensitivity_knn)\n",
        "\n",
        "# Calculate Matthews Correlation Coefficient (MCC)\n",
        "mcc_knn = matthews_corrcoef(y_test, y_pred_knn)\n",
        "\n",
        "# Print metrics for KNN\n",
        "print(\"K-Nearest Neighbors:\")\n",
        "print(f\"Accuracy: {accuracy_knn:.4f}\")\n",
        "print(f\"Specificity: {specificity_knn:.4f}\")\n",
        "print(f\"Sensitivity (Recall): {sensitivity_knn:.4f}\")\n",
        "print(f\"Precision: {precision_knn:.4f}\")\n",
        "print(f\"F1 Score: {f1_score_knn:.4f}\")\n",
        "print(f\"Matthews Correlation Coefficient (MCC): {mcc_knn:.4f}\")\n",
        "\n",
        "# Print classification report for additional metrics\n",
        "classification_rep_knn = classification_report(y_test, y_pred_knn)\n",
        "print(\"Classification Report:\\n\", classification_rep_knn)\n"
      ],
      "metadata": {
        "colab": {
          "base_uri": "https://localhost:8080/"
        },
        "id": "eQVbcWkH_jsd",
        "outputId": "6706610d-1939-4b6d-ac10-6345b91d8511"
      },
      "execution_count": 95,
      "outputs": [
        {
          "output_type": "stream",
          "name": "stdout",
          "text": [
            "K-Nearest Neighbors:\n",
            "Accuracy: 0.9516\n",
            "Specificity: 0.5000\n",
            "Sensitivity (Recall): 0.9667\n",
            "Precision: 0.9831\n",
            "F1 Score: 0.9748\n",
            "Matthews Correlation Coefficient (MCC): 0.3842\n",
            "Classification Report:\n",
            "               precision    recall  f1-score   support\n",
            "\n",
            "          NO       0.33      0.50      0.40         2\n",
            "         YES       0.98      0.97      0.97        60\n",
            "\n",
            "    accuracy                           0.95        62\n",
            "   macro avg       0.66      0.73      0.69        62\n",
            "weighted avg       0.96      0.95      0.96        62\n",
            "\n"
          ]
        }
      ]
    },
    {
      "cell_type": "code",
      "source": [
        "#SVM\n",
        "from sklearn.svm import SVC\n",
        "\n",
        "# Create and train the SVM model\n",
        "model_svm = SVC()\n",
        "model_svm.fit(x_train, y_train)\n",
        "\n",
        "# Make predictions on the test set\n",
        "y_pred_svm = model_svm.predict(x_test)\n",
        "\n",
        "# Calculate confusion matrix\n",
        "conf_matrix_svm = confusion_matrix(y_test, y_pred_svm)\n",
        "tn_svm, fp_svm, fn_svm, tp_svm = conf_matrix_svm.ravel()\n",
        "\n",
        "# Calculate accuracy\n",
        "accuracy_svm = accuracy_score(y_test, y_pred_svm)\n",
        "\n",
        "# Calculate specificity (true negative rate)\n",
        "specificity_svm = tn_svm / (tn_svm + fp_svm)\n",
        "\n",
        "# Calculate sensitivity (true positive rate or recall)\n",
        "sensitivity_svm = tp_svm / (tp_svm + fn_svm)\n",
        "\n",
        "# Calculate precision\n",
        "precision_svm = tp_svm / (tp_svm + fp_svm)\n",
        "\n",
        "# Calculate F1 score\n",
        "f1_score_svm = 2 * (precision_svm * sensitivity_svm) / (precision_svm + sensitivity_svm)\n",
        "\n",
        "# Calculate Matthews Correlation Coefficient (MCC)\n",
        "mcc_svm = matthews_corrcoef(y_test, y_pred_svm)\n",
        "\n",
        "# Print metrics for SVM\n",
        "print(\"Support Vector Machine (SVM):\")\n",
        "print(f\"Accuracy: {accuracy_svm:.4f}\")\n",
        "print(f\"Specificity: {specificity_svm:.4f}\")\n",
        "print(f\"Sensitivity (Recall): {sensitivity_svm:.4f}\")\n",
        "print(f\"Precision: {precision_svm:.4f}\")\n",
        "print(f\"F1 Score: {f1_score_svm:.4f}\")\n",
        "print(f\"Matthews Correlation Coefficient (MCC): {mcc_svm:.4f}\")\n"
      ],
      "metadata": {
        "colab": {
          "base_uri": "https://localhost:8080/"
        },
        "id": "1KPP8eOgASYd",
        "outputId": "c9d3215c-303a-49c9-e873-4d86f52b9d50"
      },
      "execution_count": 96,
      "outputs": [
        {
          "output_type": "stream",
          "name": "stdout",
          "text": [
            "Support Vector Machine (SVM):\n",
            "Accuracy: 0.9677\n",
            "Specificity: 0.0000\n",
            "Sensitivity (Recall): 1.0000\n",
            "Precision: 0.9677\n",
            "F1 Score: 0.9836\n",
            "Matthews Correlation Coefficient (MCC): 0.0000\n"
          ]
        }
      ]
    },
    {
      "cell_type": "code",
      "source": [
        "#Decision Tree\n",
        "from sklearn.metrics import accuracy_score, classification_report, confusion_matrix, matthews_corrcoef\n",
        "from sklearn.tree import DecisionTreeClassifier\n",
        "\n",
        "# Create and train the Decision Tree model\n",
        "model_tree = DecisionTreeClassifier()\n",
        "model_tree.fit(x_train, y_train)\n",
        "\n",
        "# Make predictions on the test set\n",
        "y_pred_tree = model_tree.predict(x_test)\n",
        "\n",
        "# Calculate confusion matrix\n",
        "conf_matrix_tree = confusion_matrix(y_test, y_pred_tree)\n",
        "tn_tree, fp_tree, fn_tree, tp_tree = conf_matrix_tree.ravel()\n",
        "\n",
        "# Calculate accuracy\n",
        "accuracy_tree = accuracy_score(y_test, y_pred_tree)\n",
        "\n",
        "# Calculate specificity (true negative rate)\n",
        "specificity_tree = tn_tree / (tn_tree + fp_tree)\n",
        "\n",
        "# Calculate sensitivity (true positive rate or recall)\n",
        "sensitivity_tree = tp_tree / (tp_tree + fn_tree)\n",
        "\n",
        "# Calculate precision\n",
        "precision_tree = tp_tree / (tp_tree + fp_tree)\n",
        "\n",
        "# Calculate F1 score\n",
        "f1_score_tree = 2 * (precision_tree * sensitivity_tree) / (precision_tree + sensitivity_tree)\n",
        "\n",
        "# Calculate Matthews Correlation Coefficient (MCC)\n",
        "mcc_tree = matthews_corrcoef(y_test, y_pred_tree)\n",
        "\n",
        "# Print metrics for Decision Tree\n",
        "print(\"Decision Tree:\")\n",
        "print(f\"Accuracy: {accuracy_tree:.4f}\")\n",
        "print(f\"Specificity: {specificity_tree:.4f}\")\n",
        "print(f\"Sensitivity (Recall): {sensitivity_tree:.4f}\")\n",
        "print(f\"Precision: {precision_tree:.4f}\")\n",
        "print(f\"F1 Score: {f1_score_tree:.4f}\")\n",
        "print(f\"Matthews Correlation Coefficient (MCC): {mcc_tree:.4f}\")\n",
        "\n",
        "# Print classification report for additional metrics\n",
        "classification_rep_tree = classification_report(y_test, y_pred_tree)\n",
        "print(\"Classification Report:\\n\", classification_rep_tree)\n"
      ],
      "metadata": {
        "colab": {
          "base_uri": "https://localhost:8080/"
        },
        "id": "ScJy3oJX_nlq",
        "outputId": "6cdd3f70-a398-4b0a-836d-f4788a7abc5e"
      },
      "execution_count": 97,
      "outputs": [
        {
          "output_type": "stream",
          "name": "stdout",
          "text": [
            "Decision Tree:\n",
            "Accuracy: 0.9516\n",
            "Specificity: 0.5000\n",
            "Sensitivity (Recall): 0.9667\n",
            "Precision: 0.9831\n",
            "F1 Score: 0.9748\n",
            "Matthews Correlation Coefficient (MCC): 0.3842\n",
            "Classification Report:\n",
            "               precision    recall  f1-score   support\n",
            "\n",
            "          NO       0.33      0.50      0.40         2\n",
            "         YES       0.98      0.97      0.97        60\n",
            "\n",
            "    accuracy                           0.95        62\n",
            "   macro avg       0.66      0.73      0.69        62\n",
            "weighted avg       0.96      0.95      0.96        62\n",
            "\n"
          ]
        }
      ]
    },
    {
      "cell_type": "code",
      "source": [
        "#Random Forest\n",
        "from sklearn.metrics import accuracy_score, classification_report, confusion_matrix, matthews_corrcoef\n",
        "from sklearn.ensemble import RandomForestClassifier\n",
        "\n",
        "# Create and train the Random Forest model\n",
        "model_rf = RandomForestClassifier()\n",
        "model_rf.fit(x_train, y_train)\n",
        "\n",
        "# Make predictions on the test set\n",
        "y_pred_rf = model_rf.predict(x_test)\n",
        "\n",
        "# Calculate confusion matrix\n",
        "conf_matrix_rf = confusion_matrix(y_test, y_pred_rf)\n",
        "tn_rf, fp_rf, fn_rf, tp_rf = conf_matrix_rf.ravel()\n",
        "\n",
        "# Calculate accuracy\n",
        "accuracy_rf = accuracy_score(y_test, y_pred_rf)\n",
        "\n",
        "# Calculate specificity (true negative rate)\n",
        "specificity_rf = tn_rf / (tn_rf + fp_rf)\n",
        "\n",
        "# Calculate sensitivity (true positive rate or recall)\n",
        "sensitivity_rf = tp_rf / (tp_rf + fn_rf)\n",
        "\n",
        "# Calculate precision\n",
        "precision_rf = tp_rf / (tp_rf + fp_rf)\n",
        "\n",
        "# Calculate F1 score\n",
        "f1_score_rf = 2 * (precision_rf * sensitivity_rf) / (precision_rf + sensitivity_rf)\n",
        "\n",
        "# Calculate Matthews Correlation Coefficient (MCC)\n",
        "mcc_rf = matthews_corrcoef(y_test, y_pred_rf)\n",
        "\n",
        "# Print metrics for Random Forest\n",
        "print(\"Random Forest:\")\n",
        "print(f\"Accuracy: {accuracy_rf:.4f}\")\n",
        "print(f\"Specificity: {specificity_rf:.4f}\")\n",
        "print(f\"Sensitivity (Recall): {sensitivity_rf:.4f}\")\n",
        "print(f\"Precision: {precision_rf:.4f}\")\n",
        "print(f\"F1 Score: {f1_score_rf:.4f}\")\n",
        "print(f\"Matthews Correlation Coefficient (MCC): {mcc_rf:.4f}\")\n",
        "\n",
        "# Print classification report for additional metrics\n",
        "classification_rep_rf = classification_report(y_test, y_pred_rf)\n",
        "print(\"Classification Report:\\n\", classification_rep_rf)\n"
      ],
      "metadata": {
        "colab": {
          "base_uri": "https://localhost:8080/"
        },
        "id": "HiEwMoUg_qe8",
        "outputId": "fc8301aa-9bda-48af-dee2-4aea46fcdd97"
      },
      "execution_count": 98,
      "outputs": [
        {
          "output_type": "stream",
          "name": "stdout",
          "text": [
            "Random Forest:\n",
            "Accuracy: 0.9677\n",
            "Specificity: 0.5000\n",
            "Sensitivity (Recall): 0.9833\n",
            "Precision: 0.9833\n",
            "F1 Score: 0.9833\n",
            "Matthews Correlation Coefficient (MCC): 0.4833\n",
            "Classification Report:\n",
            "               precision    recall  f1-score   support\n",
            "\n",
            "          NO       0.50      0.50      0.50         2\n",
            "         YES       0.98      0.98      0.98        60\n",
            "\n",
            "    accuracy                           0.97        62\n",
            "   macro avg       0.74      0.74      0.74        62\n",
            "weighted avg       0.97      0.97      0.97        62\n",
            "\n"
          ]
        }
      ]
    },
    {
      "cell_type": "code",
      "source": [
        "#Gradient Boosting\n",
        "from sklearn.ensemble import GradientBoostingClassifier\n",
        "\n",
        "# Create and train the Gradient Boosting model\n",
        "model_gb = GradientBoostingClassifier()\n",
        "model_gb.fit(x_train, y_train)\n",
        "\n",
        "# Make predictions on the test set\n",
        "y_pred_gb = model_gb.predict(x_test)\n",
        "\n",
        "# Calculate confusion matrix\n",
        "conf_matrix_gb = confusion_matrix(y_test, y_pred_gb)\n",
        "tn_gb, fp_gb, fn_gb, tp_gb = conf_matrix_gb.ravel()\n",
        "\n",
        "# Calculate accuracy\n",
        "accuracy_gb = accuracy_score(y_test, y_pred_gb)\n",
        "\n",
        "# Calculate specificity (true negative rate)\n",
        "specificity_gb = tn_gb / (tn_gb + fp_gb)\n",
        "\n",
        "# Calculate sensitivity (true positive rate or recall)\n",
        "sensitivity_gb = tp_gb / (tp_gb + fn_gb)\n",
        "\n",
        "# Calculate precision\n",
        "precision_gb = tp_gb / (tp_gb + fp_gb)\n",
        "\n",
        "# Calculate F1 score\n",
        "f1_score_gb = 2 * (precision_gb * sensitivity_gb) / (precision_gb + sensitivity_gb)\n",
        "\n",
        "# Calculate Matthews Correlation Coefficient (MCC)\n",
        "mcc_gb = matthews_corrcoef(y_test, y_pred_gb)\n",
        "\n",
        "# Print metrics for Gradient Boosting\n",
        "print(\"Gradient Boosting:\")\n",
        "print(f\"Accuracy: {accuracy_gb:.4f}\")\n",
        "print(f\"Specificity: {specificity_gb:.4f}\")\n",
        "print(f\"Sensitivity (Recall): {sensitivity_gb:.4f}\")\n",
        "print(f\"Precision: {precision_gb:.4f}\")\n",
        "print(f\"F1 Score: {f1_score_gb:.4f}\")\n",
        "print(f\"Matthews Correlation Coefficient (MCC): {mcc_gb:.4f}\")\n"
      ],
      "metadata": {
        "colab": {
          "base_uri": "https://localhost:8080/"
        },
        "id": "GOWV14-hAZx5",
        "outputId": "2e7ee38b-4791-4c36-f5d9-2427e7d466e8"
      },
      "execution_count": 99,
      "outputs": [
        {
          "output_type": "stream",
          "name": "stdout",
          "text": [
            "Gradient Boosting:\n",
            "Accuracy: 0.9516\n",
            "Specificity: 0.5000\n",
            "Sensitivity (Recall): 0.9667\n",
            "Precision: 0.9831\n",
            "F1 Score: 0.9748\n",
            "Matthews Correlation Coefficient (MCC): 0.3842\n"
          ]
        }
      ]
    },
    {
      "cell_type": "code",
      "source": [
        "#Light GBM\n",
        "from lightgbm import LGBMClassifier\n",
        "\n",
        "# Create and train the Light GBM model\n",
        "model_lgbm = LGBMClassifier()\n",
        "model_lgbm.fit(x_train, y_train)\n",
        "\n",
        "# Make predictions on the test set\n",
        "y_pred_lgbm = model_lgbm.predict(x_test)\n",
        "\n",
        "# Calculate confusion matrix\n",
        "conf_matrix_lgbm = confusion_matrix(y_test, y_pred_lgbm)\n",
        "tn_lgbm, fp_lgbm, fn_lgbm, tp_lgbm = conf_matrix_lgbm.ravel()\n",
        "\n",
        "# Calculate accuracy\n",
        "accuracy_lgbm = accuracy_score(y_test, y_pred_lgbm)\n",
        "\n",
        "# Calculate specificity (true negative rate)\n",
        "specificity_lgbm = tn_lgbm / (tn_lgbm + fp_lgbm)\n",
        "\n",
        "# Calculate sensitivity (true positive rate or recall)\n",
        "sensitivity_lgbm = tp_lgbm / (tp_lgbm + fn_lgbm)\n",
        "\n",
        "# Calculate precision\n",
        "precision_lgbm = tp_lgbm / (tp_lgbm + fp_lgbm)\n",
        "\n",
        "# Calculate F1 score\n",
        "f1_score_lgbm = 2 * (precision_lgbm * sensitivity_lgbm) / (precision_lgbm + sensitivity_lgbm)\n",
        "\n",
        "# Calculate Matthews Correlation Coefficient (MCC)\n",
        "mcc_lgbm = matthews_corrcoef(y_test, y_pred_lgbm)\n",
        "\n",
        "# Print metrics for Light GBM\n",
        "print(\"Light GBM:\")\n",
        "print(f\"Accuracy: {accuracy_lgbm:.4f}\")\n",
        "print(f\"Specificity: {specificity_lgbm:.4f}\")\n",
        "print(f\"Sensitivity (Recall): {sensitivity_lgbm:.4f}\")\n",
        "print(f\"Precision: {precision_lgbm:.4f}\")\n",
        "print(f\"F1 Score: {f1_score_lgbm:.4f}\")\n",
        "print(f\"Matthews Correlation Coefficient (MCC): {mcc_lgbm:.4f}\")\n",
        "\n"
      ],
      "metadata": {
        "colab": {
          "base_uri": "https://localhost:8080/"
        },
        "id": "OjtLlaOTAub-",
        "outputId": "fa73a6ed-099d-4b29-90de-f40ccd21ef8b"
      },
      "execution_count": 100,
      "outputs": [
        {
          "output_type": "stream",
          "name": "stdout",
          "text": [
            "Light GBM:\n",
            "Accuracy: 0.9839\n",
            "Specificity: 0.5000\n",
            "Sensitivity (Recall): 1.0000\n",
            "Precision: 0.9836\n",
            "F1 Score: 0.9917\n",
            "Matthews Correlation Coefficient (MCC): 0.7013\n"
          ]
        }
      ]
    },
    {
      "cell_type": "code",
      "source": [
        "pip install matplotlib"
      ],
      "metadata": {
        "colab": {
          "base_uri": "https://localhost:8080/"
        },
        "id": "qqa2NCcgKDfM",
        "outputId": "95442d67-b605-4820-ed58-4a2318bf1a38"
      },
      "execution_count": 103,
      "outputs": [
        {
          "output_type": "stream",
          "name": "stdout",
          "text": [
            "Requirement already satisfied: matplotlib in /usr/local/lib/python3.10/dist-packages (3.7.1)\n",
            "Requirement already satisfied: contourpy>=1.0.1 in /usr/local/lib/python3.10/dist-packages (from matplotlib) (1.1.0)\n",
            "Requirement already satisfied: cycler>=0.10 in /usr/local/lib/python3.10/dist-packages (from matplotlib) (0.11.0)\n",
            "Requirement already satisfied: fonttools>=4.22.0 in /usr/local/lib/python3.10/dist-packages (from matplotlib) (4.41.1)\n",
            "Requirement already satisfied: kiwisolver>=1.0.1 in /usr/local/lib/python3.10/dist-packages (from matplotlib) (1.4.4)\n",
            "Requirement already satisfied: numpy>=1.20 in /usr/local/lib/python3.10/dist-packages (from matplotlib) (1.22.4)\n",
            "Requirement already satisfied: packaging>=20.0 in /usr/local/lib/python3.10/dist-packages (from matplotlib) (23.1)\n",
            "Requirement already satisfied: pillow>=6.2.0 in /usr/local/lib/python3.10/dist-packages (from matplotlib) (9.4.0)\n",
            "Requirement already satisfied: pyparsing>=2.3.1 in /usr/local/lib/python3.10/dist-packages (from matplotlib) (3.1.0)\n",
            "Requirement already satisfied: python-dateutil>=2.7 in /usr/local/lib/python3.10/dist-packages (from matplotlib) (2.8.2)\n",
            "Requirement already satisfied: six>=1.5 in /usr/local/lib/python3.10/dist-packages (from python-dateutil>=2.7->matplotlib) (1.16.0)\n"
          ]
        }
      ]
    },
    {
      "cell_type": "code",
      "source": [
        "import matplotlib.pyplot as plt\n",
        "import numpy as np\n",
        "\n",
        "models = ['KNN', 'SVM', 'Decision Tree', 'Random Forest', 'Gradient Boosting', 'Light GBM']\n",
        "accuracy = [0.9516, 0.9677, 0.9516, 0.9677, 0.9516, 0.9839]\n",
        "specificity = [0.5000, 0.00, 0.5000, 0.5000, 0.5000, 0.5000]\n",
        "sensitivity = [0.9667, 1.00, 0.9667, 0.9833, 0.9667, 1.000]\n",
        "precision = [0.9831, 0.9677, 0.9831, 0.9833, 0.9831, 0.9836]\n",
        "f1_score = [0.9748, 0.9836, 0.9748, 0.9833, 0.9748, 0.9917]\n",
        "mcc = [0.3842, 0.0000, 0.3842, 0.4833, 0.3842, 0.7013]\n",
        "\n",
        "# Create a figure and a set of subplots\n",
        "fig, ax = plt.subplots()\n",
        "\n",
        "# Set the positions for each model\n",
        "x = np.arange(len(models))\n",
        "\n",
        "# Plot each metric as a separate bar chart\n",
        "ax.bar(x - 0.3, accuracy, 0.15, label='Accuracy')\n",
        "ax.bar(x - 0.15, specificity, 0.15, label='Specificity')\n",
        "ax.bar(x, sensitivity, 0.15, label='Sensitivity')\n",
        "ax.bar(x + 0.15, precision, 0.15, label='Precision')\n",
        "ax.bar(x + 0.3, f1_score, 0.15, label='F1 Score')\n",
        "ax.bar(x + 0.45, mcc, 0.15, label='MCC')\n",
        "\n",
        "# Set labels, title, and legend\n",
        "ax.set_xlabel('Model Names')\n",
        "ax.set_ylabel('Scores')\n",
        "ax.set_title('Model Evaluation Metrics')\n",
        "ax.set_xticks(x)\n",
        "ax.set_xticklabels(models, rotation=45, ha=\"right\")\n",
        "ax.legend()\n",
        "\n",
        "# Display the plot\n",
        "plt.tight_layout()\n",
        "plt.show()\n"
      ],
      "metadata": {
        "colab": {
          "base_uri": "https://localhost:8080/",
          "height": 487
        },
        "id": "O0QWxMLfLaij",
        "outputId": "a10f8aea-e5c4-42da-e104-b2785d288c3a"
      },
      "execution_count": 108,
      "outputs": [
        {
          "output_type": "display_data",
          "data": {
            "text/plain": [
              "<Figure size 640x480 with 1 Axes>"
            ],
            "image/png": "[encoded data removed]"
          },
          "metadata": {}
        }
      ]
    }
  ]
}